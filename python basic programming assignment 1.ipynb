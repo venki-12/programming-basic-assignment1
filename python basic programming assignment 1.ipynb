{
 "cells": [
  {
   "cell_type": "code",
   "execution_count": 1,
   "metadata": {},
   "outputs": [
    {
     "name": "stdout",
     "output_type": "stream",
     "text": [
      "Hello Python\n"
     ]
    }
   ],
   "source": [
    "#1.Write a Python program to print \"Hello Python\"?\n",
    "a = \"Hello Python\"\n",
    "print(a)"
   ]
  },
  {
   "cell_type": "code",
   "execution_count": 2,
   "metadata": {},
   "outputs": [],
   "source": [
    "#2.Write a Python program to do arithmetical operations addition and division?\n",
    "def addition(*a):\n",
    "    return sum(a)  # this function adds variables passed inside functions\n",
    "\n",
    "def division(a,b):\n",
    "    return int(a/b) # this functions divides variable a from b"
   ]
  },
  {
   "cell_type": "code",
   "execution_count": 3,
   "metadata": {},
   "outputs": [
    {
     "name": "stdout",
     "output_type": "stream",
     "text": [
      "11\n",
      "3\n"
     ]
    }
   ],
   "source": [
    "\n",
    "#example\n",
    "print(addition(1,4,6))\n",
    "\n",
    "print(division(6,2))\n",
    "\n"
   ]
  },
  {
   "cell_type": "code",
   "execution_count": 12,
   "metadata": {},
   "outputs": [
    {
     "name": "stdout",
     "output_type": "stream",
     "text": [
      "enter the first side a of triangle  4\n",
      "enter the second side of triangle  11\n",
      "enter the third side of triangle  4\n",
      " The area of triangle is184.9324200890693\n"
     ]
    }
   ],
   "source": [
    "#3.Write a Python program to find the area of a triangle?\n",
    "\n",
    "# if a b and c are sides of a triangle\n",
    "a = int(input(\"enter the first side a of triangle  \"))\n",
    "b = int(input(\"enter the second side of triangle  \"))\n",
    "c = int(input(\"enter the third side of triangle  \"))\n",
    "\n",
    "# s is perimeter of a triangle\n",
    "s = a+b+c\n",
    "\n",
    "semi_perimeter =(a+b+c)/2\n",
    "\n",
    "#area of triangle from herons formula\n",
    "area=(s*(s-a)*(s-b)*(s-c))** 0.5\n",
    "\n",
    "print(\" The area of triangle is\" + str(area) )"
   ]
  },
  {
   "cell_type": "code",
   "execution_count": null,
   "metadata": {},
   "outputs": [],
   "source": [
    "# 4.Write a Python program to swap two variables?\n",
    "\n",
    "# x, y are two variables\n",
    "x = input(\"Enter the first input \")\n",
    "y = input(\"enter the second input \")\n",
    "x,y = y,x\n",
    "print(\"x =\", x)\n",
    "print(\"y =\", y)\n",
    "# after swapping data will be y,x "
   ]
  },
  {
   "cell_type": "code",
   "execution_count": 27,
   "metadata": {},
   "outputs": [
    {
     "name": "stdout",
     "output_type": "stream",
     "text": [
      "0.6257995682185282\n"
     ]
    }
   ],
   "source": [
    "#5.Write a Python program to generate a random number?\n",
    "import random\n",
    "n = random.random()\n",
    "print(n)"
   ]
  },
  {
   "cell_type": "code",
   "execution_count": null,
   "metadata": {},
   "outputs": [],
   "source": []
  }
 ],
 "metadata": {
  "kernelspec": {
   "display_name": "Python 3",
   "language": "python",
   "name": "python3"
  },
  "language_info": {
   "codemirror_mode": {
    "name": "ipython",
    "version": 3
   },
   "file_extension": ".py",
   "mimetype": "text/x-python",
   "name": "python",
   "nbconvert_exporter": "python",
   "pygments_lexer": "ipython3",
   "version": "3.8.5"
  }
 },
 "nbformat": 4,
 "nbformat_minor": 4
}
